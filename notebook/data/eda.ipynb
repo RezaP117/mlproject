{
 "cells": [
  {
   "attachments": {},
   "cell_type": "markdown",
   "metadata": {},
   "source": [
    "### Exploratory Data Analysis ###"
   ]
  },
  {
   "attachments": {},
   "cell_type": "markdown",
   "metadata": {},
   "source": [
    "Importing libraries "
   ]
  },
  {
   "cell_type": "code",
   "execution_count": 63,
   "metadata": {},
   "outputs": [],
   "source": [
    "import numpy as np\n",
    "import pandas as pd \n",
    "import seaborn as sns \n",
    "import matplotlib.pyplot as plt\n",
    "import plotly.express as px \n",
    "%matplotlib inline \n",
    "import warnings\n",
    "warnings.filterwarnings(\"ignore\")"
   ]
  },
  {
   "attachments": {},
   "cell_type": "markdown",
   "metadata": {},
   "source": [
    "### Import data into pandas dataframe ### "
   ]
  },
  {
   "cell_type": "code",
   "execution_count": 64,
   "metadata": {},
   "outputs": [
    {
     "data": {
      "text/html": [
       "<div>\n",
       "<style scoped>\n",
       "    .dataframe tbody tr th:only-of-type {\n",
       "        vertical-align: middle;\n",
       "    }\n",
       "\n",
       "    .dataframe tbody tr th {\n",
       "        vertical-align: top;\n",
       "    }\n",
       "\n",
       "    .dataframe thead th {\n",
       "        text-align: right;\n",
       "    }\n",
       "</style>\n",
       "<table border=\"1\" class=\"dataframe\">\n",
       "  <thead>\n",
       "    <tr style=\"text-align: right;\">\n",
       "      <th></th>\n",
       "      <th>id</th>\n",
       "      <th>age</th>\n",
       "      <th>sex</th>\n",
       "      <th>dataset</th>\n",
       "      <th>cp</th>\n",
       "      <th>trestbps</th>\n",
       "      <th>chol</th>\n",
       "      <th>fbs</th>\n",
       "      <th>restecg</th>\n",
       "      <th>thalch</th>\n",
       "      <th>exang</th>\n",
       "      <th>oldpeak</th>\n",
       "      <th>slope</th>\n",
       "      <th>ca</th>\n",
       "      <th>thal</th>\n",
       "      <th>num</th>\n",
       "    </tr>\n",
       "  </thead>\n",
       "  <tbody>\n",
       "    <tr>\n",
       "      <th>0</th>\n",
       "      <td>1</td>\n",
       "      <td>63</td>\n",
       "      <td>Male</td>\n",
       "      <td>Cleveland</td>\n",
       "      <td>typical angina</td>\n",
       "      <td>145.0</td>\n",
       "      <td>233.0</td>\n",
       "      <td>True</td>\n",
       "      <td>lv hypertrophy</td>\n",
       "      <td>150.0</td>\n",
       "      <td>False</td>\n",
       "      <td>2.3</td>\n",
       "      <td>downsloping</td>\n",
       "      <td>0.0</td>\n",
       "      <td>fixed defect</td>\n",
       "      <td>0</td>\n",
       "    </tr>\n",
       "    <tr>\n",
       "      <th>1</th>\n",
       "      <td>2</td>\n",
       "      <td>67</td>\n",
       "      <td>Male</td>\n",
       "      <td>Cleveland</td>\n",
       "      <td>asymptomatic</td>\n",
       "      <td>160.0</td>\n",
       "      <td>286.0</td>\n",
       "      <td>False</td>\n",
       "      <td>lv hypertrophy</td>\n",
       "      <td>108.0</td>\n",
       "      <td>True</td>\n",
       "      <td>1.5</td>\n",
       "      <td>flat</td>\n",
       "      <td>3.0</td>\n",
       "      <td>normal</td>\n",
       "      <td>2</td>\n",
       "    </tr>\n",
       "    <tr>\n",
       "      <th>2</th>\n",
       "      <td>3</td>\n",
       "      <td>67</td>\n",
       "      <td>Male</td>\n",
       "      <td>Cleveland</td>\n",
       "      <td>asymptomatic</td>\n",
       "      <td>120.0</td>\n",
       "      <td>229.0</td>\n",
       "      <td>False</td>\n",
       "      <td>lv hypertrophy</td>\n",
       "      <td>129.0</td>\n",
       "      <td>True</td>\n",
       "      <td>2.6</td>\n",
       "      <td>flat</td>\n",
       "      <td>2.0</td>\n",
       "      <td>reversable defect</td>\n",
       "      <td>1</td>\n",
       "    </tr>\n",
       "    <tr>\n",
       "      <th>3</th>\n",
       "      <td>4</td>\n",
       "      <td>37</td>\n",
       "      <td>Male</td>\n",
       "      <td>Cleveland</td>\n",
       "      <td>non-anginal</td>\n",
       "      <td>130.0</td>\n",
       "      <td>250.0</td>\n",
       "      <td>False</td>\n",
       "      <td>normal</td>\n",
       "      <td>187.0</td>\n",
       "      <td>False</td>\n",
       "      <td>3.5</td>\n",
       "      <td>downsloping</td>\n",
       "      <td>0.0</td>\n",
       "      <td>normal</td>\n",
       "      <td>0</td>\n",
       "    </tr>\n",
       "    <tr>\n",
       "      <th>4</th>\n",
       "      <td>5</td>\n",
       "      <td>41</td>\n",
       "      <td>Female</td>\n",
       "      <td>Cleveland</td>\n",
       "      <td>atypical angina</td>\n",
       "      <td>130.0</td>\n",
       "      <td>204.0</td>\n",
       "      <td>False</td>\n",
       "      <td>lv hypertrophy</td>\n",
       "      <td>172.0</td>\n",
       "      <td>False</td>\n",
       "      <td>1.4</td>\n",
       "      <td>upsloping</td>\n",
       "      <td>0.0</td>\n",
       "      <td>normal</td>\n",
       "      <td>0</td>\n",
       "    </tr>\n",
       "    <tr>\n",
       "      <th>...</th>\n",
       "      <td>...</td>\n",
       "      <td>...</td>\n",
       "      <td>...</td>\n",
       "      <td>...</td>\n",
       "      <td>...</td>\n",
       "      <td>...</td>\n",
       "      <td>...</td>\n",
       "      <td>...</td>\n",
       "      <td>...</td>\n",
       "      <td>...</td>\n",
       "      <td>...</td>\n",
       "      <td>...</td>\n",
       "      <td>...</td>\n",
       "      <td>...</td>\n",
       "      <td>...</td>\n",
       "      <td>...</td>\n",
       "    </tr>\n",
       "    <tr>\n",
       "      <th>915</th>\n",
       "      <td>916</td>\n",
       "      <td>54</td>\n",
       "      <td>Female</td>\n",
       "      <td>VA Long Beach</td>\n",
       "      <td>asymptomatic</td>\n",
       "      <td>127.0</td>\n",
       "      <td>333.0</td>\n",
       "      <td>True</td>\n",
       "      <td>st-t abnormality</td>\n",
       "      <td>154.0</td>\n",
       "      <td>False</td>\n",
       "      <td>0.0</td>\n",
       "      <td>NaN</td>\n",
       "      <td>NaN</td>\n",
       "      <td>NaN</td>\n",
       "      <td>1</td>\n",
       "    </tr>\n",
       "    <tr>\n",
       "      <th>916</th>\n",
       "      <td>917</td>\n",
       "      <td>62</td>\n",
       "      <td>Male</td>\n",
       "      <td>VA Long Beach</td>\n",
       "      <td>typical angina</td>\n",
       "      <td>NaN</td>\n",
       "      <td>139.0</td>\n",
       "      <td>False</td>\n",
       "      <td>st-t abnormality</td>\n",
       "      <td>NaN</td>\n",
       "      <td>NaN</td>\n",
       "      <td>NaN</td>\n",
       "      <td>NaN</td>\n",
       "      <td>NaN</td>\n",
       "      <td>NaN</td>\n",
       "      <td>0</td>\n",
       "    </tr>\n",
       "    <tr>\n",
       "      <th>917</th>\n",
       "      <td>918</td>\n",
       "      <td>55</td>\n",
       "      <td>Male</td>\n",
       "      <td>VA Long Beach</td>\n",
       "      <td>asymptomatic</td>\n",
       "      <td>122.0</td>\n",
       "      <td>223.0</td>\n",
       "      <td>True</td>\n",
       "      <td>st-t abnormality</td>\n",
       "      <td>100.0</td>\n",
       "      <td>False</td>\n",
       "      <td>0.0</td>\n",
       "      <td>NaN</td>\n",
       "      <td>NaN</td>\n",
       "      <td>fixed defect</td>\n",
       "      <td>2</td>\n",
       "    </tr>\n",
       "    <tr>\n",
       "      <th>918</th>\n",
       "      <td>919</td>\n",
       "      <td>58</td>\n",
       "      <td>Male</td>\n",
       "      <td>VA Long Beach</td>\n",
       "      <td>asymptomatic</td>\n",
       "      <td>NaN</td>\n",
       "      <td>385.0</td>\n",
       "      <td>True</td>\n",
       "      <td>lv hypertrophy</td>\n",
       "      <td>NaN</td>\n",
       "      <td>NaN</td>\n",
       "      <td>NaN</td>\n",
       "      <td>NaN</td>\n",
       "      <td>NaN</td>\n",
       "      <td>NaN</td>\n",
       "      <td>0</td>\n",
       "    </tr>\n",
       "    <tr>\n",
       "      <th>919</th>\n",
       "      <td>920</td>\n",
       "      <td>62</td>\n",
       "      <td>Male</td>\n",
       "      <td>VA Long Beach</td>\n",
       "      <td>atypical angina</td>\n",
       "      <td>120.0</td>\n",
       "      <td>254.0</td>\n",
       "      <td>False</td>\n",
       "      <td>lv hypertrophy</td>\n",
       "      <td>93.0</td>\n",
       "      <td>True</td>\n",
       "      <td>0.0</td>\n",
       "      <td>NaN</td>\n",
       "      <td>NaN</td>\n",
       "      <td>NaN</td>\n",
       "      <td>1</td>\n",
       "    </tr>\n",
       "  </tbody>\n",
       "</table>\n",
       "<p>920 rows × 16 columns</p>\n",
       "</div>"
      ],
      "text/plain": [
       "      id  age     sex        dataset               cp  trestbps   chol    fbs  \\\n",
       "0      1   63    Male      Cleveland   typical angina     145.0  233.0   True   \n",
       "1      2   67    Male      Cleveland     asymptomatic     160.0  286.0  False   \n",
       "2      3   67    Male      Cleveland     asymptomatic     120.0  229.0  False   \n",
       "3      4   37    Male      Cleveland      non-anginal     130.0  250.0  False   \n",
       "4      5   41  Female      Cleveland  atypical angina     130.0  204.0  False   \n",
       "..   ...  ...     ...            ...              ...       ...    ...    ...   \n",
       "915  916   54  Female  VA Long Beach     asymptomatic     127.0  333.0   True   \n",
       "916  917   62    Male  VA Long Beach   typical angina       NaN  139.0  False   \n",
       "917  918   55    Male  VA Long Beach     asymptomatic     122.0  223.0   True   \n",
       "918  919   58    Male  VA Long Beach     asymptomatic       NaN  385.0   True   \n",
       "919  920   62    Male  VA Long Beach  atypical angina     120.0  254.0  False   \n",
       "\n",
       "              restecg  thalch  exang  oldpeak        slope   ca  \\\n",
       "0      lv hypertrophy   150.0  False      2.3  downsloping  0.0   \n",
       "1      lv hypertrophy   108.0   True      1.5         flat  3.0   \n",
       "2      lv hypertrophy   129.0   True      2.6         flat  2.0   \n",
       "3              normal   187.0  False      3.5  downsloping  0.0   \n",
       "4      lv hypertrophy   172.0  False      1.4    upsloping  0.0   \n",
       "..                ...     ...    ...      ...          ...  ...   \n",
       "915  st-t abnormality   154.0  False      0.0          NaN  NaN   \n",
       "916  st-t abnormality     NaN    NaN      NaN          NaN  NaN   \n",
       "917  st-t abnormality   100.0  False      0.0          NaN  NaN   \n",
       "918    lv hypertrophy     NaN    NaN      NaN          NaN  NaN   \n",
       "919    lv hypertrophy    93.0   True      0.0          NaN  NaN   \n",
       "\n",
       "                  thal  num  \n",
       "0         fixed defect    0  \n",
       "1               normal    2  \n",
       "2    reversable defect    1  \n",
       "3               normal    0  \n",
       "4               normal    0  \n",
       "..                 ...  ...  \n",
       "915                NaN    1  \n",
       "916                NaN    0  \n",
       "917       fixed defect    2  \n",
       "918                NaN    0  \n",
       "919                NaN    1  \n",
       "\n",
       "[920 rows x 16 columns]"
      ]
     },
     "execution_count": 64,
     "metadata": {},
     "output_type": "execute_result"
    }
   ],
   "source": [
    "heart_disease_df = pd.read_csv(\"heart_disease_uci.csv\")\n",
    "heart_disease_df"
   ]
  },
  {
   "attachments": {},
   "cell_type": "markdown",
   "metadata": {},
   "source": [
    "### Check for missing values in data set ### "
   ]
  },
  {
   "cell_type": "code",
   "execution_count": 65,
   "metadata": {},
   "outputs": [
    {
     "data": {
      "text/plain": [
       "id            0\n",
       "age           0\n",
       "sex           0\n",
       "dataset       0\n",
       "cp            0\n",
       "trestbps     59\n",
       "chol         30\n",
       "fbs          90\n",
       "restecg       2\n",
       "thalch       55\n",
       "exang        55\n",
       "oldpeak      62\n",
       "slope       309\n",
       "ca          611\n",
       "thal        486\n",
       "num           0\n",
       "dtype: int64"
      ]
     },
     "execution_count": 65,
     "metadata": {},
     "output_type": "execute_result"
    }
   ],
   "source": [
    "heart_disease_df.isna().sum()"
   ]
  },
  {
   "cell_type": "code",
   "execution_count": 66,
   "metadata": {},
   "outputs": [
    {
     "data": {
      "text/plain": [
       "['trestbps',\n",
       " 'chol',\n",
       " 'fbs',\n",
       " 'restecg',\n",
       " 'thalch',\n",
       " 'exang',\n",
       " 'oldpeak',\n",
       " 'slope',\n",
       " 'ca',\n",
       " 'thal']"
      ]
     },
     "execution_count": 66,
     "metadata": {},
     "output_type": "execute_result"
    }
   ],
   "source": [
    "# show all features that have missing values \n",
    "[feature for feature in heart_disease_df.columns if heart_disease_df[feature].isna().sum() > 0]"
   ]
  },
  {
   "cell_type": "code",
   "execution_count": 67,
   "metadata": {},
   "outputs": [
    {
     "data": {
      "text/plain": [
       "<Axes: >"
      ]
     },
     "execution_count": 67,
     "metadata": {},
     "output_type": "execute_result"
    },
    {
     "data": {
      "image/png": "[encoded data removed]",
      "text/plain": [
       "<Figure size 640x480 with 1 Axes>"
      ]
     },
     "metadata": {},
     "output_type": "display_data"
    }
   ],
   "source": [
    "# using a heatmap to show the same features with missing values \n",
    "sns.heatmap(heart_disease_df.isnull(), yticklabels = False, cbar = False, cmap = \"viridis\")"
   ]
  },
  {
   "attachments": {},
   "cell_type": "markdown",
   "metadata": {},
   "source": [
    "## Using Chi-Square Test between target variable (num) and features with missing values to see if there is a statistical relationship between them ### "
   ]
  },
  {
   "cell_type": "code",
   "execution_count": 68,
   "metadata": {},
   "outputs": [],
   "source": [
    "from scipy.stats import chi2_contingency"
   ]
  },
  {
   "cell_type": "code",
   "execution_count": 69,
   "metadata": {},
   "outputs": [
    {
     "name": "stdout",
     "output_type": "stream",
     "text": [
      "Chi-Square Statistic: 114.08119532134354\n",
      "P-value: 5.5083128087344495e-21\n",
      "Degrees of Freedom: 8\n",
      "Expected Frequencies:\n",
      " [[19.8202765  11.23502304  6.67741935  6.57142857  1.69585253]\n",
      " [84.4516129  47.87096774 28.4516129  28.          7.22580645]\n",
      " [82.7281106  46.89400922 27.87096774 27.42857143  7.07834101]]\n",
      "There is a significant association between thal and num.\n"
     ]
    }
   ],
   "source": [
    "# create contingency table \n",
    "thal_num_df = heart_disease_df[[\"thal\", \"num\"]]\n",
    "thal_num_df = thal_num_df.dropna()\n",
    "\n",
    "thal = thal_num_df[\"thal\"]\n",
    "num = thal_num_df[\"num\"]\n",
    "contingency_table = pd.crosstab(thal, num)\n",
    "\n",
    "# Perform Chi-Square test\n",
    "chi2_stat, p_val, dof, expected = chi2_contingency(contingency_table)\n",
    "\n",
    "print(\"Chi-Square Statistic:\", chi2_stat)\n",
    "print(\"P-value:\", p_val)\n",
    "print(\"Degrees of Freedom:\", dof)\n",
    "print(\"Expected Frequencies:\\n\", expected)\n",
    "\n",
    "if p_val < 0.05:\n",
    "    print(\"There is a significant association between thal and num.\")\n",
    "else:\n",
    "    print(\"There is no significant association between thal and num.\")"
   ]
  },
  {
   "cell_type": "code",
   "execution_count": 70,
   "metadata": {},
   "outputs": [
    {
     "name": "stdout",
     "output_type": "stream",
     "text": [
      "Chi-Square Statistic: 112.25917956288063\n",
      "P-value: 2.1366337175556998e-18\n",
      "Degrees of Freedom: 12\n",
      "Expected Frequencies:\n",
      " [[96.65048544 33.97411003 21.08737864 21.67313916  7.61488673]\n",
      " [35.77669903 12.57605178  7.80582524  8.02265372  2.81877023]\n",
      " [21.89320388  7.69579288  4.77669903  4.90938511  1.72491909]\n",
      " [10.67961165  3.75404531  2.33009709  2.39482201  0.84142395]]\n",
      "There is a significant association between ca and num.\n"
     ]
    }
   ],
   "source": [
    "# create contingency table \n",
    "ca_num_df = heart_disease_df[[\"ca\", \"num\"]]\n",
    "ca_num_df = ca_num_df.dropna()\n",
    "\n",
    "ca = ca_num_df[\"ca\"]\n",
    "num = ca_num_df[\"num\"]\n",
    "contingency_table = pd.crosstab(ca, num)\n",
    "\n",
    "# Perform Chi-Square test\n",
    "chi2_stat, p_val, dof, expected = chi2_contingency(contingency_table)\n",
    "\n",
    "print(\"Chi-Square Statistic:\", chi2_stat)\n",
    "print(\"P-value:\", p_val)\n",
    "print(\"Degrees of Freedom:\", dof)\n",
    "print(\"Expected Frequencies:\\n\", expected)\n",
    "\n",
    "if p_val < 0.05:\n",
    "    print(\"There is a significant association between ca and num.\")\n",
    "else:\n",
    "    print(\"There is no significant association between ca and num.\")"
   ]
  },
  {
   "cell_type": "code",
   "execution_count": 71,
   "metadata": {},
   "outputs": [
    {
     "name": "stdout",
     "output_type": "stream",
     "text": [
      "Chi-Square Statistic: 104.1291484912597\n",
      "P-value: 6.10061701015126e-19\n",
      "Degrees of Freedom: 8\n",
      "Expected Frequencies:\n",
      " [[ 22.47790507  20.41571195   9.27986907   8.35188216   2.47463175]\n",
      " [123.09328969 111.80032733  50.81833061  45.73649755  13.55155483]\n",
      " [ 72.42880524  65.78396072  29.90180033  26.91162029   7.97381342]]\n",
      "There is a significant association between slope and num.\n"
     ]
    }
   ],
   "source": [
    "# create contingency table \n",
    "slope_num_df = heart_disease_df[[\"slope\", \"num\"]]\n",
    "slope_num_df = slope_num_df.dropna()\n",
    "\n",
    "slope = slope_num_df[\"slope\"]\n",
    "num = slope_num_df[\"num\"]\n",
    "contingency_table = pd.crosstab(slope, num)\n",
    "\n",
    "# Perform Chi-Square test\n",
    "chi2_stat, p_val, dof, expected = chi2_contingency(contingency_table)\n",
    "\n",
    "print(\"Chi-Square Statistic:\", chi2_stat)\n",
    "print(\"P-value:\", p_val)\n",
    "print(\"Degrees of Freedom:\", dof)\n",
    "print(\"Expected Frequencies:\\n\", expected)\n",
    "\n",
    "if p_val < 0.05:\n",
    "    print(\"There is a significant association between slope and num.\")\n",
    "else:\n",
    "    print(\"There is no significant association between slope and num.\")"
   ]
  },
  {
   "cell_type": "code",
   "execution_count": 72,
   "metadata": {},
   "outputs": [
    {
     "name": "stdout",
     "output_type": "stream",
     "text": [
      "Chi-Square Statistic: 24.67315549603282\n",
      "P-value: 5.852437165074865e-05\n",
      "Degrees of Freedom: 4\n",
      "Expected Frequencies:\n",
      " [[330.99277108 187.59036145  73.3686747   78.37108434  21.67710843]\n",
      " [ 66.00722892  37.40963855  14.6313253   15.62891566   4.32289157]]\n",
      "There is a significant association between fbs and num.\n"
     ]
    }
   ],
   "source": [
    "# create contingency table \n",
    "fbs_num_df = heart_disease_df[[\"fbs\", \"num\"]]\n",
    "fbs_num_df = fbs_num_df.dropna()\n",
    "\n",
    "fbs = fbs_num_df[\"fbs\"]\n",
    "num = fbs_num_df[\"num\"]\n",
    "contingency_table = pd.crosstab(fbs, num)\n",
    "\n",
    "# Perform Chi-Square test\n",
    "chi2_stat, p_val, dof, expected = chi2_contingency(contingency_table)\n",
    "\n",
    "print(\"Chi-Square Statistic:\", chi2_stat)\n",
    "print(\"P-value:\", p_val)\n",
    "print(\"Degrees of Freedom:\", dof)\n",
    "print(\"Expected Frequencies:\\n\", expected)\n",
    "\n",
    "if p_val < 0.05:\n",
    "    print(\"There is a significant association between fbs and num.\")\n",
    "else:\n",
    "    print(\"There is no significant association between fbs and num.\")"
   ]
  },
  {
   "cell_type": "code",
   "execution_count": 73,
   "metadata": {},
   "outputs": [
    {
     "data": {
      "text/plain": [
       "Index([0, 1, 2, 3, 4], dtype='int64', name='num')"
      ]
     },
     "execution_count": 73,
     "metadata": {},
     "output_type": "execute_result"
    }
   ],
   "source": [
    "# pie chart for showing num distribution \n",
    "num_types = heart_disease_df.num.value_counts().index\n",
    "num_types"
   ]
  },
  {
   "cell_type": "code",
   "execution_count": 74,
   "metadata": {},
   "outputs": [
    {
     "data": {
      "text/plain": [
       "array([411, 265, 109, 107,  28], dtype=int64)"
      ]
     },
     "execution_count": 74,
     "metadata": {},
     "output_type": "execute_result"
    }
   ],
   "source": [
    "num_freq = heart_disease_df.num.value_counts().values\n",
    "num_freq"
   ]
  },
  {
   "cell_type": "code",
   "execution_count": 75,
   "metadata": {},
   "outputs": [
    {
     "data": {
      "text/plain": [
       "([<matplotlib.patches.Wedge at 0x1a8fa3290a0>,\n",
       "  <matplotlib.patches.Wedge at 0x1a8fa3370d0>,\n",
       "  <matplotlib.patches.Wedge at 0x1a8fa337dc0>,\n",
       "  <matplotlib.patches.Wedge at 0x1a8fa342490>,\n",
       "  <matplotlib.patches.Wedge at 0x1a8fa342b20>],\n",
       " [Text(0.1831986836988545, 1.084637378247222, '0'),\n",
       "  Text(-0.9259323264768218, -0.5938428468755185, '1'),\n",
       "  Text(0.30039165571367216, -1.0581894221629693, '2'),\n",
       "  Text(0.9339570528734981, -0.5811404506553043, '3'),\n",
       "  Text(1.0949757383194476, -0.10501491556812542, '4')],\n",
       " [Text(0.09992655474482971, 0.5916203881348483, '44.674%'),\n",
       "  Text(-0.5050539962600845, -0.3239142801139191, '28.804%'),\n",
       "  Text(0.16384999402563932, -0.5771942302707105, '11.848%'),\n",
       "  Text(0.5094311197491806, -0.31698570035743867, '11.630%'),\n",
       "  Text(0.5972594936287896, -0.05728086303715931, '3.043%')])"
      ]
     },
     "execution_count": 75,
     "metadata": {},
     "output_type": "execute_result"
    },
    {
     "data": {
      "image/png": "[encoded data removed]",
      "text/plain": [
       "<Figure size 640x480 with 1 Axes>"
      ]
     },
     "metadata": {},
     "output_type": "display_data"
    }
   ],
   "source": [
    "plt.pie(num_freq, labels = num_types, autopct = \"%1.3f%%\")"
   ]
  },
  {
   "attachments": {},
   "cell_type": "markdown",
   "metadata": {},
   "source": [
    "Observation: 45% of patients did not have heart disease, 55% of patients do have heart disease"
   ]
  },
  {
   "attachments": {},
   "cell_type": "markdown",
   "metadata": {},
   "source": [
    "### Checking for relationships between other features ###"
   ]
  },
  {
   "cell_type": "code",
   "execution_count": null,
   "metadata": {},
   "outputs": [],
   "source": []
  }
 ],
 "metadata": {
  "kernelspec": {
   "display_name": "Python 3",
   "language": "python",
   "name": "python3"
  },
  "language_info": {
   "codemirror_mode": {
    "name": "ipython",
    "version": 3
   },
   "file_extension": ".py",
   "mimetype": "text/x-python",
   "name": "python",
   "nbconvert_exporter": "python",
   "pygments_lexer": "ipython3",
   "version": "3.8.0"
  },
  "orig_nbformat": 4,
  "vscode": {
   "interpreter": {
    "hash": "66e60f40af37445331f6dfbbe9bf0e4b214fda46ac3e0f4e36454ace9701c7f7"
   }
  }
 },
 "nbformat": 4,
 "nbformat_minor": 2
}
